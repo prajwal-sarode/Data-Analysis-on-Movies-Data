{
 "cells": [
  {
   "cell_type": "code",
   "execution_count": 1,
   "metadata": {},
   "outputs": [],
   "source": [
    "import numpy as np\n",
    "import matplotlib.pyplot as plt\n",
    "import seaborn as sns\n",
    "import pandas as pd\n",
    "import plotly.io as pyo\n",
    "pyo.renderers.default='iframe'\n",
    "import plotly.express as px\n",
    "%matplotlib inline"
   ]
  },
  {
   "cell_type": "code",
   "execution_count": 2,
   "metadata": {},
   "outputs": [
    {
     "data": {
      "text/html": [
       "<div>\n",
       "<style scoped>\n",
       "    .dataframe tbody tr th:only-of-type {\n",
       "        vertical-align: middle;\n",
       "    }\n",
       "\n",
       "    .dataframe tbody tr th {\n",
       "        vertical-align: top;\n",
       "    }\n",
       "\n",
       "    .dataframe thead th {\n",
       "        text-align: right;\n",
       "    }\n",
       "</style>\n",
       "<table border=\"1\" class=\"dataframe\">\n",
       "  <thead>\n",
       "    <tr style=\"text-align: right;\">\n",
       "      <th></th>\n",
       "      <th>Unnamed: 0</th>\n",
       "      <th>ID</th>\n",
       "      <th>Title</th>\n",
       "      <th>Year</th>\n",
       "      <th>Age</th>\n",
       "      <th>IMDb</th>\n",
       "      <th>Rotten Tomatoes</th>\n",
       "      <th>Netflix</th>\n",
       "      <th>Hulu</th>\n",
       "      <th>Prime Video</th>\n",
       "      <th>Disney+</th>\n",
       "      <th>Type</th>\n",
       "      <th>Directors</th>\n",
       "      <th>Genres</th>\n",
       "      <th>Country</th>\n",
       "      <th>Language</th>\n",
       "      <th>Runtime</th>\n",
       "    </tr>\n",
       "  </thead>\n",
       "  <tbody>\n",
       "    <tr>\n",
       "      <th>0</th>\n",
       "      <td>0</td>\n",
       "      <td>1</td>\n",
       "      <td>Inception</td>\n",
       "      <td>2010</td>\n",
       "      <td>13+</td>\n",
       "      <td>8.8</td>\n",
       "      <td>87%</td>\n",
       "      <td>1</td>\n",
       "      <td>0</td>\n",
       "      <td>0</td>\n",
       "      <td>0</td>\n",
       "      <td>0</td>\n",
       "      <td>Christopher Nolan</td>\n",
       "      <td>Action,Adventure,Sci-Fi,Thriller</td>\n",
       "      <td>United States,United Kingdom</td>\n",
       "      <td>English,Japanese,French</td>\n",
       "      <td>148.0</td>\n",
       "    </tr>\n",
       "    <tr>\n",
       "      <th>1</th>\n",
       "      <td>1</td>\n",
       "      <td>2</td>\n",
       "      <td>The Matrix</td>\n",
       "      <td>1999</td>\n",
       "      <td>18+</td>\n",
       "      <td>8.7</td>\n",
       "      <td>87%</td>\n",
       "      <td>1</td>\n",
       "      <td>0</td>\n",
       "      <td>0</td>\n",
       "      <td>0</td>\n",
       "      <td>0</td>\n",
       "      <td>Lana Wachowski,Lilly Wachowski</td>\n",
       "      <td>Action,Sci-Fi</td>\n",
       "      <td>United States</td>\n",
       "      <td>English</td>\n",
       "      <td>136.0</td>\n",
       "    </tr>\n",
       "    <tr>\n",
       "      <th>2</th>\n",
       "      <td>2</td>\n",
       "      <td>3</td>\n",
       "      <td>Avengers: Infinity War</td>\n",
       "      <td>2018</td>\n",
       "      <td>13+</td>\n",
       "      <td>8.5</td>\n",
       "      <td>84%</td>\n",
       "      <td>1</td>\n",
       "      <td>0</td>\n",
       "      <td>0</td>\n",
       "      <td>0</td>\n",
       "      <td>0</td>\n",
       "      <td>Anthony Russo,Joe Russo</td>\n",
       "      <td>Action,Adventure,Sci-Fi</td>\n",
       "      <td>United States</td>\n",
       "      <td>English</td>\n",
       "      <td>149.0</td>\n",
       "    </tr>\n",
       "    <tr>\n",
       "      <th>3</th>\n",
       "      <td>3</td>\n",
       "      <td>4</td>\n",
       "      <td>Back to the Future</td>\n",
       "      <td>1985</td>\n",
       "      <td>7+</td>\n",
       "      <td>8.5</td>\n",
       "      <td>96%</td>\n",
       "      <td>1</td>\n",
       "      <td>0</td>\n",
       "      <td>0</td>\n",
       "      <td>0</td>\n",
       "      <td>0</td>\n",
       "      <td>Robert Zemeckis</td>\n",
       "      <td>Adventure,Comedy,Sci-Fi</td>\n",
       "      <td>United States</td>\n",
       "      <td>English</td>\n",
       "      <td>116.0</td>\n",
       "    </tr>\n",
       "    <tr>\n",
       "      <th>4</th>\n",
       "      <td>4</td>\n",
       "      <td>5</td>\n",
       "      <td>The Good, the Bad and the Ugly</td>\n",
       "      <td>1966</td>\n",
       "      <td>18+</td>\n",
       "      <td>8.8</td>\n",
       "      <td>97%</td>\n",
       "      <td>1</td>\n",
       "      <td>0</td>\n",
       "      <td>1</td>\n",
       "      <td>0</td>\n",
       "      <td>0</td>\n",
       "      <td>Sergio Leone</td>\n",
       "      <td>Western</td>\n",
       "      <td>Italy,Spain,West Germany</td>\n",
       "      <td>Italian</td>\n",
       "      <td>161.0</td>\n",
       "    </tr>\n",
       "  </tbody>\n",
       "</table>\n",
       "</div>"
      ],
      "text/plain": [
       "   Unnamed: 0  ID                           Title  Year  Age  IMDb  \\\n",
       "0           0   1                       Inception  2010  13+   8.8   \n",
       "1           1   2                      The Matrix  1999  18+   8.7   \n",
       "2           2   3          Avengers: Infinity War  2018  13+   8.5   \n",
       "3           3   4              Back to the Future  1985   7+   8.5   \n",
       "4           4   5  The Good, the Bad and the Ugly  1966  18+   8.8   \n",
       "\n",
       "  Rotten Tomatoes  Netflix  Hulu  Prime Video  Disney+  Type  \\\n",
       "0             87%        1     0            0        0     0   \n",
       "1             87%        1     0            0        0     0   \n",
       "2             84%        1     0            0        0     0   \n",
       "3             96%        1     0            0        0     0   \n",
       "4             97%        1     0            1        0     0   \n",
       "\n",
       "                        Directors                            Genres  \\\n",
       "0               Christopher Nolan  Action,Adventure,Sci-Fi,Thriller   \n",
       "1  Lana Wachowski,Lilly Wachowski                     Action,Sci-Fi   \n",
       "2         Anthony Russo,Joe Russo           Action,Adventure,Sci-Fi   \n",
       "3                 Robert Zemeckis           Adventure,Comedy,Sci-Fi   \n",
       "4                    Sergio Leone                           Western   \n",
       "\n",
       "                        Country                 Language  Runtime  \n",
       "0  United States,United Kingdom  English,Japanese,French    148.0  \n",
       "1                 United States                  English    136.0  \n",
       "2                 United States                  English    149.0  \n",
       "3                 United States                  English    116.0  \n",
       "4      Italy,Spain,West Germany                  Italian    161.0  "
      ]
     },
     "execution_count": 2,
     "metadata": {},
     "output_type": "execute_result"
    }
   ],
   "source": [
    "df = pd.read_csv('moviestreams.csv')\n",
    "df.head()"
   ]
  },
  {
   "cell_type": "code",
   "execution_count": 3,
   "metadata": {},
   "outputs": [
    {
     "data": {
      "text/plain": [
       "(16744, 17)"
      ]
     },
     "execution_count": 3,
     "metadata": {},
     "output_type": "execute_result"
    }
   ],
   "source": [
    "df.shape"
   ]
  },
  {
   "cell_type": "code",
   "execution_count": 4,
   "metadata": {},
   "outputs": [
    {
     "data": {
      "text/plain": [
       "['Unnamed: 0',\n",
       " 'ID',\n",
       " 'Title',\n",
       " 'Year',\n",
       " 'Age',\n",
       " 'IMDb',\n",
       " 'Rotten Tomatoes',\n",
       " 'Netflix',\n",
       " 'Hulu',\n",
       " 'Prime Video',\n",
       " 'Disney+',\n",
       " 'Type',\n",
       " 'Directors',\n",
       " 'Genres',\n",
       " 'Country',\n",
       " 'Language',\n",
       " 'Runtime']"
      ]
     },
     "execution_count": 4,
     "metadata": {},
     "output_type": "execute_result"
    }
   ],
   "source": [
    "cols = df.columns.tolist()\n",
    "cols"
   ]
  },
  {
   "cell_type": "code",
   "execution_count": 5,
   "metadata": {},
   "outputs": [
    {
     "data": {
      "text/plain": [
       "['Title',\n",
       " 'Year',\n",
       " 'Age',\n",
       " 'IMDb',\n",
       " 'Rotten Tomatoes',\n",
       " 'Netflix',\n",
       " 'Hulu',\n",
       " 'Prime Video',\n",
       " 'Disney+',\n",
       " 'Type',\n",
       " 'Directors',\n",
       " 'Genres',\n",
       " 'Country',\n",
       " 'Language',\n",
       " 'Runtime']"
      ]
     },
     "execution_count": 5,
     "metadata": {},
     "output_type": "execute_result"
    }
   ],
   "source": [
    "df.drop(['Unnamed: 0', 'ID'], axis = 1, inplace=True )\n",
    "\n",
    "cols = df.columns.tolist()\n",
    "\n",
    "cols"
   ]
  },
  {
   "cell_type": "markdown",
   "metadata": {},
   "source": [
    "## Checking For Missing Data"
   ]
  },
  {
   "cell_type": "code",
   "execution_count": 6,
   "metadata": {},
   "outputs": [
    {
     "data": {
      "text/plain": [
       "Title                  0\n",
       "Year                   0\n",
       "Age                 9390\n",
       "IMDb                 571\n",
       "Rotten Tomatoes    11586\n",
       "Netflix                0\n",
       "Hulu                   0\n",
       "Prime Video            0\n",
       "Disney+                0\n",
       "Type                   0\n",
       "Directors            726\n",
       "Genres               275\n",
       "Country              435\n",
       "Language             599\n",
       "Runtime              592\n",
       "dtype: int64"
      ]
     },
     "execution_count": 6,
     "metadata": {},
     "output_type": "execute_result"
    }
   ],
   "source": [
    "df.isna().sum()"
   ]
  },
  {
   "cell_type": "code",
   "execution_count": 7,
   "metadata": {},
   "outputs": [
    {
     "data": {
      "text/plain": [
       "Title               object\n",
       "Year                 int64\n",
       "Age                 object\n",
       "IMDb               float64\n",
       "Rotten Tomatoes     object\n",
       "Netflix              int64\n",
       "Hulu                 int64\n",
       "Prime Video          int64\n",
       "Disney+              int64\n",
       "Type                 int64\n",
       "Directors           object\n",
       "Genres              object\n",
       "Country             object\n",
       "Language            object\n",
       "Runtime            float64\n",
       "dtype: object"
      ]
     },
     "execution_count": 7,
     "metadata": {},
     "output_type": "execute_result"
    }
   ],
   "source": [
    "df.dtypes"
   ]
  },
  {
   "cell_type": "code",
   "execution_count": 8,
   "metadata": {},
   "outputs": [
    {
     "data": {
      "text/plain": [
       "0        13+\n",
       "1        18+\n",
       "2        13+\n",
       "3         7+\n",
       "4        18+\n",
       "        ... \n",
       "16739    NaN\n",
       "16740     7+\n",
       "16741    NaN\n",
       "16742    NaN\n",
       "16743    NaN\n",
       "Name: Age, Length: 16744, dtype: object"
      ]
     },
     "execution_count": 8,
     "metadata": {},
     "output_type": "execute_result"
    }
   ],
   "source": [
    "df['Age']"
   ]
  },
  {
   "cell_type": "code",
   "execution_count": 9,
   "metadata": {},
   "outputs": [
    {
     "data": {
      "text/plain": [
       "0        13.0\n",
       "1        18.0\n",
       "2        13.0\n",
       "3         7.0\n",
       "4        18.0\n",
       "         ... \n",
       "16739     NaN\n",
       "16740     7.0\n",
       "16741     NaN\n",
       "16742     NaN\n",
       "16743     NaN\n",
       "Name: AgeCopy, Length: 16744, dtype: float64"
      ]
     },
     "execution_count": 9,
     "metadata": {},
     "output_type": "execute_result"
    }
   ],
   "source": [
    "age_map = {'18+':18,'7+':7,'13+':13,'All':0,'16+':16}\n",
    "\n",
    "df['AgeCopy']  = df['Age'].map(age_map)\n",
    "\n",
    "df['AgeCopy']"
   ]
  },
  {
   "cell_type": "code",
   "execution_count": 10,
   "metadata": {},
   "outputs": [],
   "source": [
    "df['new_Rotten_Tomatoes'] = df['Rotten Tomatoes'].str.replace('%','')\n",
    "\n",
    "\n",
    "\n",
    "for i in df['new_Rotten_Tomatoes']:\n",
    "    if i == str:\n",
    "        i.astype(int)\n",
    "# OR\n",
    "# df['new_Rotten_Tomatoes'] = df['new_Rotten Tomatoes'].astype(int)\n"
   ]
  },
  {
   "cell_type": "markdown",
   "metadata": {},
   "source": [
    "# Visualisation"
   ]
  },
  {
   "cell_type": "markdown",
   "metadata": {},
   "source": [
    "## Q. What is the number of MOVIES for each age group?"
   ]
  },
  {
   "cell_type": "code",
   "execution_count": 11,
   "metadata": {},
   "outputs": [
    {
     "data": {
      "text/plain": [
       "18+    3474\n",
       "7+     1462\n",
       "13+    1255\n",
       "all     843\n",
       "16+     320\n",
       "Name: Age, dtype: int64"
      ]
     },
     "execution_count": 11,
     "metadata": {},
     "output_type": "execute_result"
    }
   ],
   "source": [
    "df['Age'].value_counts()"
   ]
  },
  {
   "cell_type": "markdown",
   "metadata": {},
   "source": [
    "## Q. Top 10 languages in Streaming Services"
   ]
  },
  {
   "cell_type": "code",
   "execution_count": 12,
   "metadata": {},
   "outputs": [
    {
     "data": {
      "text/plain": [
       "English                                                                             10955\n",
       "Hindi                                                                                 503\n",
       "English,Spanish                                                                       276\n",
       "Spanish                                                                               267\n",
       "English,French                                                                        174\n",
       "                                                                                    ...  \n",
       "English,German,Hungarian,Romanian                                                       1\n",
       "English,Spanish,Chinese,Latin                                                           1\n",
       "English,Danish,Malay,Dutch,Indonesian,Finnish,Luxembourgish,French Sign Language        1\n",
       "Dutch,French                                                                            1\n",
       "English,Algonquin                                                                       1\n",
       "Name: Language, Length: 1102, dtype: int64"
      ]
     },
     "execution_count": 12,
     "metadata": {},
     "output_type": "execute_result"
    }
   ],
   "source": [
    "df.Language.value_counts()"
   ]
  },
  {
   "cell_type": "code",
   "execution_count": 13,
   "metadata": {},
   "outputs": [
    {
     "data": {
      "text/plain": [
       "<AxesSubplot:title={'center':'Top 10 Languages in Streaming Services'}>"
      ]
     },
     "execution_count": 13,
     "metadata": {},
     "output_type": "execute_result"
    },
    {
     "data": {
      "image/png": "[encoded data removed]",
      "text/plain": [
       "<Figure size 1500x800 with 1 Axes>"
      ]
     },
     "metadata": {},
     "output_type": "display_data"
    }
   ],
   "source": [
    "language = df.Language.value_counts().head(10)\n",
    "\n",
    "plt.figure(figsize=(15,8))\n",
    "plt.title('Top 10 Languages in Streaming Services')\n",
    "sns.barplot(x=language.index,y=language.values)"
   ]
  },
  {
   "cell_type": "code",
   "execution_count": 14,
   "metadata": {},
   "outputs": [
    {
     "data": {
      "text/html": [
       "<iframe\n",
       "    scrolling=\"no\"\n",
       "    width=\"100%\"\n",
       "    height=\"545px\"\n",
       "    src=\"iframe_figures/figure_14.html\"\n",
       "    frameborder=\"0\"\n",
       "    allowfullscreen\n",
       "></iframe>\n"
      ]
     },
     "metadata": {},
     "output_type": "display_data"
    }
   ],
   "source": [
    "from IPython.display import HTML\n",
    "import plotly.express as px\n",
    "\n",
    "fig = px.pie(df,\n",
    "           values=language.values,\n",
    "           names=language.index,\n",
    "           title='Top 10 Languages in Streaming Services')\n",
    "\n",
    "HTML(fig.to_html())\n",
    "fig.show()"
   ]
  },
  {
   "cell_type": "markdown",
   "metadata": {},
   "source": [
    "## Q. Numbers of movies in specific age group in All services"
   ]
  },
  {
   "cell_type": "code",
   "execution_count": 15,
   "metadata": {},
   "outputs": [
    {
     "data": {
      "image/png": "[encoded data removed]",
      "text/plain": [
       "<Figure size 1500x800 with 1 Axes>"
      ]
     },
     "metadata": {},
     "output_type": "display_data"
    }
   ],
   "source": [
    "plt.figure(figsize=(15,8))\n",
    "plt.pie(df['AgeCopy'].value_counts().index,labels=df['AgeCopy'].value_counts(),autopct='%.0f%%')\n",
    "plt.show()\n"
   ]
  },
  {
   "cell_type": "code",
   "execution_count": 16,
   "metadata": {},
   "outputs": [
    {
     "data": {
      "text/html": [
       "<iframe\n",
       "    scrolling=\"no\"\n",
       "    width=\"100%\"\n",
       "    height=\"620\"\n",
       "    src=\"iframe_figures/figure_16.html\"\n",
       "    frameborder=\"0\"\n",
       "    allowfullscreen\n",
       "></iframe>\n"
      ]
     },
     "metadata": {},
     "output_type": "display_data"
    }
   ],
   "source": [
    "from IPython.display import HTML\n",
    "import plotly.express as px\n",
    "\n",
    "\n",
    "fig = px.bar(df,\n",
    "           x=df['Age'].value_counts().index,\n",
    "           y=df['Age'].value_counts(),\n",
    "           title=\"Number of Movies in speccific age group in ALL Services\",\n",
    "           text=df['Age'].value_counts(),\n",
    "           height=600)\n",
    "fig.update_traces(texttemplate='%{text:.2s}',textposition='outside')\n",
    "HTML(fig.to_html())\n",
    "fig.show()"
   ]
  },
  {
   "cell_type": "markdown",
   "metadata": {},
   "source": [
    "## Q. Number of movies in specific age group in Netflix"
   ]
  },
  {
   "cell_type": "code",
   "execution_count": 17,
   "metadata": {},
   "outputs": [
    {
     "data": {
      "text/html": [
       "<iframe\n",
       "    scrolling=\"no\"\n",
       "    width=\"100%\"\n",
       "    height=\"620\"\n",
       "    src=\"iframe_figures/figure_17.html\"\n",
       "    frameborder=\"0\"\n",
       "    allowfullscreen\n",
       "></iframe>\n"
      ]
     },
     "metadata": {},
     "output_type": "display_data"
    }
   ],
   "source": [
    "from IPython.display import HTML\n",
    "import plotly.express as px\n",
    " \n",
    "netflix_df=df[df['Netflix']==1]\n",
    "    \n",
    "fig = px.bar(netflix_df,\n",
    "           x=netflix_df['Age'].value_counts().index,\n",
    "           y=netflix_df['Age'].value_counts(),\n",
    "           title=\"Number of Movies in speccific age group in Netflix\",\n",
    "           text=netflix_df['Age'].value_counts(),\n",
    "           height=600)\n",
    "fig.update_traces(texttemplate='%{text:.2s}',textposition='outside')\n",
    "HTML(fig.to_html())\n",
    "fig.show()"
   ]
  },
  {
   "cell_type": "markdown",
   "metadata": {},
   "source": [
    "## Q. Number of movies in specific age group in Amazon Prime"
   ]
  },
  {
   "cell_type": "code",
   "execution_count": 18,
   "metadata": {},
   "outputs": [
    {
     "data": {
      "text/html": [
       "<iframe\n",
       "    scrolling=\"no\"\n",
       "    width=\"100%\"\n",
       "    height=\"620\"\n",
       "    src=\"iframe_figures/figure_18.html\"\n",
       "    frameborder=\"0\"\n",
       "    allowfullscreen\n",
       "></iframe>\n"
      ]
     },
     "metadata": {},
     "output_type": "display_data"
    }
   ],
   "source": [
    "from IPython.display import HTML\n",
    "import plotly.express as px\n",
    " \n",
    "prime_df=df[df['Prime Video']==1]\n",
    "    \n",
    "fig = px.bar(prime_df,\n",
    "           x=prime_df['Age'].value_counts().index,\n",
    "           y=prime_df['Age'].value_counts(),\n",
    "           title=\"Number of Movies in speccific age group in Amazon Prime\",\n",
    "           text=prime_df['Age'].value_counts(),\n",
    "           height=600)\n",
    "fig.update_traces(texttemplate='%{text:.2s}',textposition='outside')\n",
    "HTML(fig.to_html())\n",
    "fig.show()"
   ]
  },
  {
   "cell_type": "markdown",
   "metadata": {},
   "source": [
    "## Q. Number of movies in specific age group in Disney+"
   ]
  },
  {
   "cell_type": "code",
   "execution_count": 19,
   "metadata": {},
   "outputs": [
    {
     "data": {
      "text/html": [
       "<iframe\n",
       "    scrolling=\"no\"\n",
       "    width=\"100%\"\n",
       "    height=\"620\"\n",
       "    src=\"iframe_figures/figure_19.html\"\n",
       "    frameborder=\"0\"\n",
       "    allowfullscreen\n",
       "></iframe>\n"
      ]
     },
     "metadata": {},
     "output_type": "display_data"
    }
   ],
   "source": [
    "from IPython.display import HTML\n",
    "import plotly.express as px\n",
    " \n",
    "disney_df=df[df['Disney+']==1]\n",
    "    \n",
    "fig = px.bar(disney_df,\n",
    "           x=disney_df['Age'].value_counts().index,\n",
    "           y=disney_df['Age'].value_counts(),\n",
    "           title=\"Number of Movies in speccific age group in Disney+\",\n",
    "           text=disney_df['Age'].value_counts(),\n",
    "           height=600)\n",
    "fig.update_traces(texttemplate='%{text:.2s}',textposition='outside')\n",
    "HTML(fig.to_html())\n",
    "fig.show()"
   ]
  },
  {
   "cell_type": "markdown",
   "metadata": {},
   "source": [
    "## Q. Number of movies in specific age group in Hulu"
   ]
  },
  {
   "cell_type": "code",
   "execution_count": 20,
   "metadata": {},
   "outputs": [
    {
     "data": {
      "text/html": [
       "<iframe\n",
       "    scrolling=\"no\"\n",
       "    width=\"100%\"\n",
       "    height=\"620\"\n",
       "    src=\"iframe_figures/figure_20.html\"\n",
       "    frameborder=\"0\"\n",
       "    allowfullscreen\n",
       "></iframe>\n"
      ]
     },
     "metadata": {},
     "output_type": "display_data"
    }
   ],
   "source": [
    "from IPython.display import HTML\n",
    "import plotly.express as px\n",
    " \n",
    "hulu_df=df[df['Hulu']==1]\n",
    "    \n",
    "fig = px.bar(hulu_df,\n",
    "           x=hulu_df['Age'].value_counts().index,\n",
    "           y=hulu_df['Age'].value_counts(),\n",
    "           title=\"Number of Movies in speccific age group in Hulu\",\n",
    "           text=hulu_df['Age'].value_counts(),\n",
    "           height=600)\n",
    "fig.update_traces(texttemplate='%{text:.2s}',textposition='outside')\n",
    "HTML(fig.to_html())\n",
    "fig.show()"
   ]
  },
  {
   "cell_type": "markdown",
   "metadata": {},
   "source": [
    "# Rotten Tomatoes Score"
   ]
  },
  {
   "cell_type": "markdown",
   "metadata": {},
   "source": [
    "## Q. Rotten tomato ratimg for All Services"
   ]
  },
  {
   "cell_type": "code",
   "execution_count": 21,
   "metadata": {},
   "outputs": [
    {
     "data": {
      "text/html": [
       "<iframe\n",
       "    scrolling=\"no\"\n",
       "    width=\"100%\"\n",
       "    height=\"620\"\n",
       "    src=\"iframe_figures/figure_21.html\"\n",
       "    frameborder=\"0\"\n",
       "    allowfullscreen\n",
       "></iframe>\n"
      ]
     },
     "metadata": {},
     "output_type": "display_data"
    }
   ],
   "source": [
    "from IPython.display import HTML\n",
    "import plotly.express as px\n",
    "     \n",
    "fig = px.bar(df,\n",
    "           x=df['Rotten Tomatoes'].value_counts().index,\n",
    "           y=df['Rotten Tomatoes'].value_counts(),\n",
    "           title=\"Overall Rotten Tomatoes Rating\",\n",
    "           text=df['Rotten Tomatoes'].value_counts(),\n",
    "           height=600)\n",
    "fig.update_traces(texttemplate='%{text:.2s}',textposition='outside')\n",
    "HTML(fig.to_html())\n",
    "fig.show()"
   ]
  },
  {
   "cell_type": "markdown",
   "metadata": {},
   "source": [
    "## Q. Rotten tomato ratimg for Each Services"
   ]
  },
  {
   "cell_type": "code",
   "execution_count": 22,
   "metadata": {},
   "outputs": [
    {
     "data": {
      "text/html": [
       "<div>\n",
       "<style scoped>\n",
       "    .dataframe tbody tr th:only-of-type {\n",
       "        vertical-align: middle;\n",
       "    }\n",
       "\n",
       "    .dataframe tbody tr th {\n",
       "        vertical-align: top;\n",
       "    }\n",
       "\n",
       "    .dataframe thead th {\n",
       "        text-align: right;\n",
       "    }\n",
       "</style>\n",
       "<table border=\"1\" class=\"dataframe\">\n",
       "  <thead>\n",
       "    <tr style=\"text-align: right;\">\n",
       "      <th></th>\n",
       "      <th>Streaming Service</th>\n",
       "      <th>Rotten Tomatoes Score</th>\n",
       "    </tr>\n",
       "  </thead>\n",
       "  <tbody>\n",
       "    <tr>\n",
       "      <th>0</th>\n",
       "      <td>Prime Video</td>\n",
       "      <td>130</td>\n",
       "    </tr>\n",
       "    <tr>\n",
       "      <th>1</th>\n",
       "      <td>Hulu</td>\n",
       "      <td>18</td>\n",
       "    </tr>\n",
       "    <tr>\n",
       "      <th>2</th>\n",
       "      <td>Disney+</td>\n",
       "      <td>19</td>\n",
       "    </tr>\n",
       "    <tr>\n",
       "      <th>3</th>\n",
       "      <td>Netflix</td>\n",
       "      <td>257</td>\n",
       "    </tr>\n",
       "  </tbody>\n",
       "</table>\n",
       "</div>"
      ],
      "text/plain": [
       "  Streaming Service  Rotten Tomatoes Score\n",
       "0       Prime Video                    130\n",
       "1              Hulu                     18\n",
       "2           Disney+                     19\n",
       "3           Netflix                    257"
      ]
     },
     "execution_count": 22,
     "metadata": {},
     "output_type": "execute_result"
    }
   ],
   "source": [
    "rt_scores=pd.DataFrame({'Streaming Service' :['Prime Video','Hulu','Disney+','Netflix'],\n",
    " 'Rotten Tomatoes Score':[netflix_df['Rotten Tomatoes'].value_counts()[0],\n",
    "                          hulu_df['Rotten Tomatoes'].value_counts()[0],\n",
    "                          disney_df['Rotten Tomatoes'].value_counts()[0],\n",
    "                          prime_df['Rotten Tomatoes'].value_counts()[0]\n",
    "                      \n",
    "     ]})\n",
    "\n",
    "rt_scores.head()"
   ]
  },
  {
   "cell_type": "code",
   "execution_count": 23,
   "metadata": {},
   "outputs": [
    {
     "data": {
      "text/html": [
       "<div>\n",
       "<style scoped>\n",
       "    .dataframe tbody tr th:only-of-type {\n",
       "        vertical-align: middle;\n",
       "    }\n",
       "\n",
       "    .dataframe tbody tr th {\n",
       "        vertical-align: top;\n",
       "    }\n",
       "\n",
       "    .dataframe thead th {\n",
       "        text-align: right;\n",
       "    }\n",
       "</style>\n",
       "<table border=\"1\" class=\"dataframe\">\n",
       "  <thead>\n",
       "    <tr style=\"text-align: right;\">\n",
       "      <th></th>\n",
       "      <th>Streaming Service</th>\n",
       "      <th>Rotten Tomatoes Score</th>\n",
       "    </tr>\n",
       "  </thead>\n",
       "  <tbody>\n",
       "    <tr>\n",
       "      <th>3</th>\n",
       "      <td>Netflix</td>\n",
       "      <td>257</td>\n",
       "    </tr>\n",
       "    <tr>\n",
       "      <th>0</th>\n",
       "      <td>Prime Video</td>\n",
       "      <td>130</td>\n",
       "    </tr>\n",
       "    <tr>\n",
       "      <th>2</th>\n",
       "      <td>Disney+</td>\n",
       "      <td>19</td>\n",
       "    </tr>\n",
       "    <tr>\n",
       "      <th>1</th>\n",
       "      <td>Hulu</td>\n",
       "      <td>18</td>\n",
       "    </tr>\n",
       "  </tbody>\n",
       "</table>\n",
       "</div>"
      ],
      "text/plain": [
       "  Streaming Service  Rotten Tomatoes Score\n",
       "3           Netflix                    257\n",
       "0       Prime Video                    130\n",
       "2           Disney+                     19\n",
       "1              Hulu                     18"
      ]
     },
     "execution_count": 23,
     "metadata": {},
     "output_type": "execute_result"
    }
   ],
   "source": [
    "sort_rt_scores=rt_scores.sort_values(ascending=False,by='Rotten Tomatoes Score')\n",
    "\n",
    "sort_rt_scores"
   ]
  },
  {
   "cell_type": "code",
   "execution_count": 24,
   "metadata": {},
   "outputs": [
    {
     "data": {
      "text/html": [
       "<iframe\n",
       "    scrolling=\"no\"\n",
       "    width=\"100%\"\n",
       "    height=\"620\"\n",
       "    src=\"iframe_figures/figure_24.html\"\n",
       "    frameborder=\"0\"\n",
       "    allowfullscreen\n",
       "></iframe>\n"
      ]
     },
     "metadata": {},
     "output_type": "display_data"
    }
   ],
   "source": [
    "fig = px.bar(sort_rt_scores,\n",
    "           x=sort_rt_scores['Streaming Service'],\n",
    "           y=sort_rt_scores['Rotten Tomatoes Score'],\n",
    "           title=\"Rotten Tomatoes Rating For Each Service\",\n",
    "           text=sort_rt_scores['Rotten Tomatoes Score'],\n",
    "           height=600)\n",
    "fig.update_traces(marker_color='purple' ,texttemplate='%{text:.2s}',textposition='outside')\n",
    "HTML(fig.to_html())\n",
    "fig.show()"
   ]
  },
  {
   "cell_type": "markdown",
   "metadata": {},
   "source": [
    "# IMDB Ratings"
   ]
  },
  {
   "cell_type": "code",
   "execution_count": 25,
   "metadata": {},
   "outputs": [
    {
     "data": {
      "text/html": [
       "<iframe\n",
       "    scrolling=\"no\"\n",
       "    width=\"100%\"\n",
       "    height=\"620\"\n",
       "    src=\"iframe_figures/figure_25.html\"\n",
       "    frameborder=\"0\"\n",
       "    allowfullscreen\n",
       "></iframe>\n"
      ]
     },
     "metadata": {},
     "output_type": "display_data"
    }
   ],
   "source": [
    "fig = px.bar(df,\n",
    "           x=df['IMDb'].value_counts().index,\n",
    "           y=df['IMDb'].value_counts(),\n",
    "           title=\"Overall IMDb Ratings\",\n",
    "           text=df['IMDb'].value_counts(),\n",
    "           height=600)\n",
    "fig.update_traces(marker_color='red' ,texttemplate='%{text:.2s}',textposition='outside')\n",
    "HTML(fig.to_html())\n",
    "fig.show()"
   ]
  },
  {
   "cell_type": "markdown",
   "metadata": {},
   "source": [
    "## Count of Runtime of Movies"
   ]
  },
  {
   "cell_type": "code",
   "execution_count": 26,
   "metadata": {},
   "outputs": [],
   "source": [
    "RuntimeCount = pd.DataFrame(dict(df['Runtime'].value_counts().sort_values(ascending=False)[:10]).items(),\n",
    "               columns=['Runtime','Count'])"
   ]
  },
  {
   "cell_type": "code",
   "execution_count": 27,
   "metadata": {},
   "outputs": [
    {
     "data": {
      "text/html": [
       "<div>\n",
       "<style scoped>\n",
       "    .dataframe tbody tr th:only-of-type {\n",
       "        vertical-align: middle;\n",
       "    }\n",
       "\n",
       "    .dataframe tbody tr th {\n",
       "        vertical-align: top;\n",
       "    }\n",
       "\n",
       "    .dataframe thead th {\n",
       "        text-align: right;\n",
       "    }\n",
       "</style>\n",
       "<table border=\"1\" class=\"dataframe\">\n",
       "  <thead>\n",
       "    <tr style=\"text-align: right;\">\n",
       "      <th></th>\n",
       "      <th>Runtime</th>\n",
       "      <th>Count</th>\n",
       "    </tr>\n",
       "  </thead>\n",
       "  <tbody>\n",
       "    <tr>\n",
       "      <th>0</th>\n",
       "      <td>90.0</td>\n",
       "      <td>971</td>\n",
       "    </tr>\n",
       "    <tr>\n",
       "      <th>1</th>\n",
       "      <td>95.0</td>\n",
       "      <td>489</td>\n",
       "    </tr>\n",
       "    <tr>\n",
       "      <th>2</th>\n",
       "      <td>92.0</td>\n",
       "      <td>434</td>\n",
       "    </tr>\n",
       "    <tr>\n",
       "      <th>3</th>\n",
       "      <td>93.0</td>\n",
       "      <td>422</td>\n",
       "    </tr>\n",
       "    <tr>\n",
       "      <th>4</th>\n",
       "      <td>85.0</td>\n",
       "      <td>408</td>\n",
       "    </tr>\n",
       "    <tr>\n",
       "      <th>...</th>\n",
       "      <td>...</td>\n",
       "      <td>...</td>\n",
       "    </tr>\n",
       "    <tr>\n",
       "      <th>152</th>\n",
       "      <td>19.0</td>\n",
       "      <td>8</td>\n",
       "    </tr>\n",
       "    <tr>\n",
       "      <th>153</th>\n",
       "      <td>32.0</td>\n",
       "      <td>8</td>\n",
       "    </tr>\n",
       "    <tr>\n",
       "      <th>154</th>\n",
       "      <td>9.0</td>\n",
       "      <td>8</td>\n",
       "    </tr>\n",
       "    <tr>\n",
       "      <th>155</th>\n",
       "      <td>7.0</td>\n",
       "      <td>8</td>\n",
       "    </tr>\n",
       "    <tr>\n",
       "      <th>156</th>\n",
       "      <td>10.0</td>\n",
       "      <td>8</td>\n",
       "    </tr>\n",
       "  </tbody>\n",
       "</table>\n",
       "<p>157 rows × 2 columns</p>\n",
       "</div>"
      ],
      "text/plain": [
       "     Runtime  Count\n",
       "0       90.0    971\n",
       "1       95.0    489\n",
       "2       92.0    434\n",
       "3       93.0    422\n",
       "4       85.0    408\n",
       "..       ...    ...\n",
       "152     19.0      8\n",
       "153     32.0      8\n",
       "154      9.0      8\n",
       "155      7.0      8\n",
       "156     10.0      8\n",
       "\n",
       "[157 rows x 2 columns]"
      ]
     },
     "execution_count": 27,
     "metadata": {},
     "output_type": "execute_result"
    }
   ],
   "source": [
    "RuntimeCount"
   ]
  },
  {
   "cell_type": "code",
   "execution_count": 28,
   "metadata": {},
   "outputs": [
    {
     "data": {
      "text/html": [
       "<iframe\n",
       "    scrolling=\"no\"\n",
       "    width=\"100%\"\n",
       "    height=\"620\"\n",
       "    src=\"iframe_figures/figure_28.html\"\n",
       "    frameborder=\"0\"\n",
       "    allowfullscreen\n",
       "></iframe>\n"
      ]
     },
     "metadata": {},
     "output_type": "display_data"
    }
   ],
   "source": [
    "fig = px.bar(df,\n",
    "           x=RuntimeCount['Runtime'],\n",
    "           y=RuntimeCount['Count'],\n",
    "           title=\"Count of RunTime of Movies\",\n",
    "           text=RuntimeCount['Runtime'],\n",
    "           height=600)\n",
    "fig.update_traces(marker_color='black' ,texttemplate='%{text:.2s}',textposition='outside')\n",
    "HTML(fig.to_html())\n",
    "fig.show()"
   ]
  },
  {
   "cell_type": "markdown",
   "metadata": {},
   "source": [
    "## Directors and their cout of movies they have directed"
   ]
  },
  {
   "cell_type": "code",
   "execution_count": 29,
   "metadata": {},
   "outputs": [],
   "source": [
    "new_data=df[df['Directors'] !=np.nan]\n",
    "\n",
    "directors_count=dict()\n",
    "\n",
    "direc_in_data=list(new_data['Directors'].astype(str))\n",
    "\n",
    "for xdir in direc_in_data:\n",
    "    curr_dirs=xdir.split(',')\n",
    "    for xd in curr_dirs:\n",
    "        if xd in directors_count.keys():\n",
    "            directors_count[xd]=directors_count.get(xd)+1\n",
    "        else:\n",
    "            directors_count[xd]=1"
   ]
  },
  {
   "cell_type": "code",
   "execution_count": 30,
   "metadata": {},
   "outputs": [
    {
     "data": {
      "text/html": [
       "<div>\n",
       "<style scoped>\n",
       "    .dataframe tbody tr th:only-of-type {\n",
       "        vertical-align: middle;\n",
       "    }\n",
       "\n",
       "    .dataframe tbody tr th {\n",
       "        vertical-align: top;\n",
       "    }\n",
       "\n",
       "    .dataframe thead th {\n",
       "        text-align: right;\n",
       "    }\n",
       "</style>\n",
       "<table border=\"1\" class=\"dataframe\">\n",
       "  <thead>\n",
       "    <tr style=\"text-align: right;\">\n",
       "      <th></th>\n",
       "      <th>Director</th>\n",
       "      <th>Count</th>\n",
       "    </tr>\n",
       "  </thead>\n",
       "  <tbody>\n",
       "    <tr>\n",
       "      <th>56</th>\n",
       "      <td>nan</td>\n",
       "      <td>726</td>\n",
       "    </tr>\n",
       "    <tr>\n",
       "      <th>977</th>\n",
       "      <td>Jay Chapman</td>\n",
       "      <td>36</td>\n",
       "    </tr>\n",
       "    <tr>\n",
       "      <th>8166</th>\n",
       "      <td>Joseph Kane</td>\n",
       "      <td>31</td>\n",
       "    </tr>\n",
       "    <tr>\n",
       "      <th>1103</th>\n",
       "      <td>Cheh Chang</td>\n",
       "      <td>29</td>\n",
       "    </tr>\n",
       "    <tr>\n",
       "      <th>6950</th>\n",
       "      <td>William Beaudine</td>\n",
       "      <td>23</td>\n",
       "    </tr>\n",
       "    <tr>\n",
       "      <th>4827</th>\n",
       "      <td>Jim Wynorski</td>\n",
       "      <td>23</td>\n",
       "    </tr>\n",
       "    <tr>\n",
       "      <th>8665</th>\n",
       "      <td>Sam Newfield</td>\n",
       "      <td>22</td>\n",
       "    </tr>\n",
       "    <tr>\n",
       "      <th>8519</th>\n",
       "      <td>David DeCoteau</td>\n",
       "      <td>21</td>\n",
       "    </tr>\n",
       "    <tr>\n",
       "      <th>1414</th>\n",
       "      <td>Raúl Campos</td>\n",
       "      <td>21</td>\n",
       "    </tr>\n",
       "    <tr>\n",
       "      <th>136</th>\n",
       "      <td>Jay Karas</td>\n",
       "      <td>21</td>\n",
       "    </tr>\n",
       "    <tr>\n",
       "      <th>1415</th>\n",
       "      <td>Jan Suter</td>\n",
       "      <td>21</td>\n",
       "    </tr>\n",
       "    <tr>\n",
       "      <th>471</th>\n",
       "      <td>Marcus Raboy</td>\n",
       "      <td>18</td>\n",
       "    </tr>\n",
       "    <tr>\n",
       "      <th>2575</th>\n",
       "      <td>Fred Olen Ray</td>\n",
       "      <td>18</td>\n",
       "    </tr>\n",
       "    <tr>\n",
       "      <th>7857</th>\n",
       "      <td>William Witney</td>\n",
       "      <td>17</td>\n",
       "    </tr>\n",
       "    <tr>\n",
       "      <th>2103</th>\n",
       "      <td>Scott L. Montoya</td>\n",
       "      <td>17</td>\n",
       "    </tr>\n",
       "    <tr>\n",
       "      <th>2303</th>\n",
       "      <td>Mark Atkins</td>\n",
       "      <td>16</td>\n",
       "    </tr>\n",
       "    <tr>\n",
       "      <th>7965</th>\n",
       "      <td>Lesley Selander</td>\n",
       "      <td>16</td>\n",
       "    </tr>\n",
       "    <tr>\n",
       "      <th>1260</th>\n",
       "      <td>Manny Rodriguez</td>\n",
       "      <td>15</td>\n",
       "    </tr>\n",
       "    <tr>\n",
       "      <th>12317</th>\n",
       "      <td>Paul Hoen</td>\n",
       "      <td>15</td>\n",
       "    </tr>\n",
       "    <tr>\n",
       "      <th>6864</th>\n",
       "      <td>Robert Stevenson</td>\n",
       "      <td>14</td>\n",
       "    </tr>\n",
       "  </tbody>\n",
       "</table>\n",
       "</div>"
      ],
      "text/plain": [
       "               Director  Count\n",
       "56                  nan    726\n",
       "977         Jay Chapman     36\n",
       "8166        Joseph Kane     31\n",
       "1103         Cheh Chang     29\n",
       "6950   William Beaudine     23\n",
       "4827       Jim Wynorski     23\n",
       "8665       Sam Newfield     22\n",
       "8519     David DeCoteau     21\n",
       "1414        Raúl Campos     21\n",
       "136           Jay Karas     21\n",
       "1415          Jan Suter     21\n",
       "471        Marcus Raboy     18\n",
       "2575      Fred Olen Ray     18\n",
       "7857     William Witney     17\n",
       "2103   Scott L. Montoya     17\n",
       "2303        Mark Atkins     16\n",
       "7965    Lesley Selander     16\n",
       "1260    Manny Rodriguez     15\n",
       "12317         Paul Hoen     15\n",
       "6864   Robert Stevenson     14"
      ]
     },
     "execution_count": 30,
     "metadata": {},
     "output_type": "execute_result"
    }
   ],
   "source": [
    "DirCount=pd.DataFrame(directors_count.items(),columns=['Director','Count'])\n",
    "\n",
    "DirCount=DirCount.sort_values(by='Count', ascending=False).head(20)\n",
    "\n",
    "DirCount"
   ]
  },
  {
   "cell_type": "code",
   "execution_count": 31,
   "metadata": {},
   "outputs": [
    {
     "data": {
      "text/html": [
       "<div>\n",
       "<style scoped>\n",
       "    .dataframe tbody tr th:only-of-type {\n",
       "        vertical-align: middle;\n",
       "    }\n",
       "\n",
       "    .dataframe tbody tr th {\n",
       "        vertical-align: top;\n",
       "    }\n",
       "\n",
       "    .dataframe thead th {\n",
       "        text-align: right;\n",
       "    }\n",
       "</style>\n",
       "<table border=\"1\" class=\"dataframe\">\n",
       "  <thead>\n",
       "    <tr style=\"text-align: right;\">\n",
       "      <th></th>\n",
       "      <th>Director</th>\n",
       "      <th>Count</th>\n",
       "    </tr>\n",
       "  </thead>\n",
       "  <tbody>\n",
       "    <tr>\n",
       "      <th>977</th>\n",
       "      <td>Jay Chapman</td>\n",
       "      <td>36</td>\n",
       "    </tr>\n",
       "    <tr>\n",
       "      <th>8166</th>\n",
       "      <td>Joseph Kane</td>\n",
       "      <td>31</td>\n",
       "    </tr>\n",
       "    <tr>\n",
       "      <th>1103</th>\n",
       "      <td>Cheh Chang</td>\n",
       "      <td>29</td>\n",
       "    </tr>\n",
       "    <tr>\n",
       "      <th>6950</th>\n",
       "      <td>William Beaudine</td>\n",
       "      <td>23</td>\n",
       "    </tr>\n",
       "    <tr>\n",
       "      <th>4827</th>\n",
       "      <td>Jim Wynorski</td>\n",
       "      <td>23</td>\n",
       "    </tr>\n",
       "    <tr>\n",
       "      <th>8665</th>\n",
       "      <td>Sam Newfield</td>\n",
       "      <td>22</td>\n",
       "    </tr>\n",
       "    <tr>\n",
       "      <th>8519</th>\n",
       "      <td>David DeCoteau</td>\n",
       "      <td>21</td>\n",
       "    </tr>\n",
       "    <tr>\n",
       "      <th>1414</th>\n",
       "      <td>Raúl Campos</td>\n",
       "      <td>21</td>\n",
       "    </tr>\n",
       "    <tr>\n",
       "      <th>136</th>\n",
       "      <td>Jay Karas</td>\n",
       "      <td>21</td>\n",
       "    </tr>\n",
       "    <tr>\n",
       "      <th>1415</th>\n",
       "      <td>Jan Suter</td>\n",
       "      <td>21</td>\n",
       "    </tr>\n",
       "    <tr>\n",
       "      <th>471</th>\n",
       "      <td>Marcus Raboy</td>\n",
       "      <td>18</td>\n",
       "    </tr>\n",
       "    <tr>\n",
       "      <th>2575</th>\n",
       "      <td>Fred Olen Ray</td>\n",
       "      <td>18</td>\n",
       "    </tr>\n",
       "    <tr>\n",
       "      <th>7857</th>\n",
       "      <td>William Witney</td>\n",
       "      <td>17</td>\n",
       "    </tr>\n",
       "    <tr>\n",
       "      <th>2103</th>\n",
       "      <td>Scott L. Montoya</td>\n",
       "      <td>17</td>\n",
       "    </tr>\n",
       "    <tr>\n",
       "      <th>2303</th>\n",
       "      <td>Mark Atkins</td>\n",
       "      <td>16</td>\n",
       "    </tr>\n",
       "    <tr>\n",
       "      <th>7965</th>\n",
       "      <td>Lesley Selander</td>\n",
       "      <td>16</td>\n",
       "    </tr>\n",
       "    <tr>\n",
       "      <th>1260</th>\n",
       "      <td>Manny Rodriguez</td>\n",
       "      <td>15</td>\n",
       "    </tr>\n",
       "    <tr>\n",
       "      <th>12317</th>\n",
       "      <td>Paul Hoen</td>\n",
       "      <td>15</td>\n",
       "    </tr>\n",
       "    <tr>\n",
       "      <th>6864</th>\n",
       "      <td>Robert Stevenson</td>\n",
       "      <td>14</td>\n",
       "    </tr>\n",
       "  </tbody>\n",
       "</table>\n",
       "</div>"
      ],
      "text/plain": [
       "               Director  Count\n",
       "977         Jay Chapman     36\n",
       "8166        Joseph Kane     31\n",
       "1103         Cheh Chang     29\n",
       "6950   William Beaudine     23\n",
       "4827       Jim Wynorski     23\n",
       "8665       Sam Newfield     22\n",
       "8519     David DeCoteau     21\n",
       "1414        Raúl Campos     21\n",
       "136           Jay Karas     21\n",
       "1415          Jan Suter     21\n",
       "471        Marcus Raboy     18\n",
       "2575      Fred Olen Ray     18\n",
       "7857     William Witney     17\n",
       "2103   Scott L. Montoya     17\n",
       "2303        Mark Atkins     16\n",
       "7965    Lesley Selander     16\n",
       "1260    Manny Rodriguez     15\n",
       "12317         Paul Hoen     15\n",
       "6864   Robert Stevenson     14"
      ]
     },
     "execution_count": 31,
     "metadata": {},
     "output_type": "execute_result"
    }
   ],
   "source": [
    "DirCount=DirCount.drop(56,axis=0)\n",
    "\n",
    "DirCount"
   ]
  },
  {
   "cell_type": "code",
   "execution_count": 32,
   "metadata": {},
   "outputs": [
    {
     "data": {
      "text/html": [
       "<iframe\n",
       "    scrolling=\"no\"\n",
       "    width=\"100%\"\n",
       "    height=\"620\"\n",
       "    src=\"iframe_figures/figure_32.html\"\n",
       "    frameborder=\"0\"\n",
       "    allowfullscreen\n",
       "></iframe>\n"
      ]
     },
     "metadata": {},
     "output_type": "display_data"
    }
   ],
   "source": [
    "fig = px.bar(DirCount,\n",
    "           x=DirCount['Director'],\n",
    "           y=DirCount['Count'],\n",
    "           title=\"Directors and their count of movies they have directed\",\n",
    "           text=DirCount['Director'],\n",
    "           height=600)\n",
    "fig.update_traces(marker_color='purple' ,texttemplate='%{text:.2s}',textposition='outside')\n",
    "HTML(fig.to_html())\n",
    "fig.show()"
   ]
  },
  {
   "cell_type": "code",
   "execution_count": 33,
   "metadata": {
    "scrolled": true
   },
   "outputs": [
    {
     "data": {
      "text/html": [
       "<div>\n",
       "<style scoped>\n",
       "    .dataframe tbody tr th:only-of-type {\n",
       "        vertical-align: middle;\n",
       "    }\n",
       "\n",
       "    .dataframe tbody tr th {\n",
       "        vertical-align: top;\n",
       "    }\n",
       "\n",
       "    .dataframe thead th {\n",
       "        text-align: right;\n",
       "    }\n",
       "</style>\n",
       "<table border=\"1\" class=\"dataframe\">\n",
       "  <thead>\n",
       "    <tr style=\"text-align: right;\">\n",
       "      <th></th>\n",
       "      <th>Directors</th>\n",
       "      <th>Title</th>\n",
       "      <th>Genres</th>\n",
       "      <th>Runtime</th>\n",
       "    </tr>\n",
       "  </thead>\n",
       "  <tbody>\n",
       "    <tr>\n",
       "      <th>1014</th>\n",
       "      <td>Jay Chapman</td>\n",
       "      <td>Jim Gaffigan: Obsessed</td>\n",
       "      <td>Documentary,Comedy</td>\n",
       "      <td>60.0</td>\n",
       "    </tr>\n",
       "    <tr>\n",
       "      <th>1234</th>\n",
       "      <td>Jay Chapman</td>\n",
       "      <td>Iliza Shlesinger: War Paint</td>\n",
       "      <td>Comedy</td>\n",
       "      <td>75.0</td>\n",
       "    </tr>\n",
       "    <tr>\n",
       "      <th>1417</th>\n",
       "      <td>Jay Chapman</td>\n",
       "      <td>Tom Segura: Completely Normal</td>\n",
       "      <td>Documentary,Comedy</td>\n",
       "      <td>74.0</td>\n",
       "    </tr>\n",
       "    <tr>\n",
       "      <th>2211</th>\n",
       "      <td>Jay Chapman</td>\n",
       "      <td>Todd Barry: Spicy Honey</td>\n",
       "      <td>Comedy</td>\n",
       "      <td>60.0</td>\n",
       "    </tr>\n",
       "    <tr>\n",
       "      <th>2331</th>\n",
       "      <td>Jay Chapman</td>\n",
       "      <td>Craig Ferguson: Tickle Fight</td>\n",
       "      <td>Comedy</td>\n",
       "      <td>66.0</td>\n",
       "    </tr>\n",
       "    <tr>\n",
       "      <th>2393</th>\n",
       "      <td>Jay Chapman</td>\n",
       "      <td>Colin Quinn: Unconstitutional</td>\n",
       "      <td>Comedy</td>\n",
       "      <td>55.0</td>\n",
       "    </tr>\n",
       "    <tr>\n",
       "      <th>2447</th>\n",
       "      <td>Jay Chapman</td>\n",
       "      <td>Lucas Brothers: On Drugs</td>\n",
       "      <td>Comedy</td>\n",
       "      <td>50.0</td>\n",
       "    </tr>\n",
       "    <tr>\n",
       "      <th>2523</th>\n",
       "      <td>Jay Chapman</td>\n",
       "      <td>D.L. Hughley: Contrarian</td>\n",
       "      <td>Comedy</td>\n",
       "      <td>58.0</td>\n",
       "    </tr>\n",
       "    <tr>\n",
       "      <th>2636</th>\n",
       "      <td>Jay Chapman</td>\n",
       "      <td>D.L. Hughley: Clear</td>\n",
       "      <td>Comedy</td>\n",
       "      <td>60.0</td>\n",
       "    </tr>\n",
       "    <tr>\n",
       "      <th>2721</th>\n",
       "      <td>Jay Chapman</td>\n",
       "      <td>Moshe Kasher: Live in Oakland</td>\n",
       "      <td>Comedy</td>\n",
       "      <td>61.0</td>\n",
       "    </tr>\n",
       "    <tr>\n",
       "      <th>2859</th>\n",
       "      <td>Jay Chapman</td>\n",
       "      <td>Todd Glass Stand-Up Special</td>\n",
       "      <td>Comedy</td>\n",
       "      <td>46.0</td>\n",
       "    </tr>\n",
       "    <tr>\n",
       "      <th>3041</th>\n",
       "      <td>Jay Chapman</td>\n",
       "      <td>Brad Paisley's Comedy Rodeo</td>\n",
       "      <td>Comedy</td>\n",
       "      <td>63.0</td>\n",
       "    </tr>\n",
       "    <tr>\n",
       "      <th>7743</th>\n",
       "      <td>Jay Chapman</td>\n",
       "      <td>Chris Porter: Ugly and Angry</td>\n",
       "      <td>Comedy</td>\n",
       "      <td>60.0</td>\n",
       "    </tr>\n",
       "    <tr>\n",
       "      <th>7962</th>\n",
       "      <td>Jay Chapman</td>\n",
       "      <td>Gary Gulman: In This Economy?</td>\n",
       "      <td>Documentary,Comedy</td>\n",
       "      <td>60.0</td>\n",
       "    </tr>\n",
       "    <tr>\n",
       "      <th>8041</th>\n",
       "      <td>Jay Chapman</td>\n",
       "      <td>Kathleen Madigan: Madigan Again</td>\n",
       "      <td>Comedy</td>\n",
       "      <td>65.0</td>\n",
       "    </tr>\n",
       "    <tr>\n",
       "      <th>8803</th>\n",
       "      <td>Jay Chapman</td>\n",
       "      <td>Elon Gold: Chosen and Taken</td>\n",
       "      <td>Comedy</td>\n",
       "      <td>61.0</td>\n",
       "    </tr>\n",
       "    <tr>\n",
       "      <th>8824</th>\n",
       "      <td>Jay Chapman</td>\n",
       "      <td>Jim Breuer: And Laughter for All</td>\n",
       "      <td>Documentary,Comedy</td>\n",
       "      <td>59.0</td>\n",
       "    </tr>\n",
       "    <tr>\n",
       "      <th>8994</th>\n",
       "      <td>Jay Chapman</td>\n",
       "      <td>Arnez J: Racially Motivated</td>\n",
       "      <td>Comedy</td>\n",
       "      <td>60.0</td>\n",
       "    </tr>\n",
       "    <tr>\n",
       "      <th>9296</th>\n",
       "      <td>Jay Chapman</td>\n",
       "      <td>Morgan Murphy: Irish Goodbye</td>\n",
       "      <td>Comedy</td>\n",
       "      <td>51.0</td>\n",
       "    </tr>\n",
       "    <tr>\n",
       "      <th>9730</th>\n",
       "      <td>Jay Chapman</td>\n",
       "      <td>Brian Posehn: The Fartist</td>\n",
       "      <td>Comedy</td>\n",
       "      <td>62.0</td>\n",
       "    </tr>\n",
       "    <tr>\n",
       "      <th>9866</th>\n",
       "      <td>Jay Chapman</td>\n",
       "      <td>Josh Blue: Sticky Change</td>\n",
       "      <td>Documentary,Comedy</td>\n",
       "      <td>52.0</td>\n",
       "    </tr>\n",
       "    <tr>\n",
       "      <th>9885</th>\n",
       "      <td>Jay Chapman</td>\n",
       "      <td>Bob Saget: Zero to Sixty</td>\n",
       "      <td>Comedy</td>\n",
       "      <td>64.0</td>\n",
       "    </tr>\n",
       "    <tr>\n",
       "      <th>10362</th>\n",
       "      <td>Jay Chapman</td>\n",
       "      <td>Myq Kaplan: Small, Dork and Handsome</td>\n",
       "      <td>Comedy</td>\n",
       "      <td>66.0</td>\n",
       "    </tr>\n",
       "    <tr>\n",
       "      <th>10543</th>\n",
       "      <td>Jay Chapman</td>\n",
       "      <td>Tammy Pescatelli: Finding the Funny</td>\n",
       "      <td>Comedy</td>\n",
       "      <td>58.0</td>\n",
       "    </tr>\n",
       "    <tr>\n",
       "      <th>10771</th>\n",
       "      <td>Jay Chapman</td>\n",
       "      <td>Kevin Nealon: Whelmed, But Not Overly</td>\n",
       "      <td>Comedy</td>\n",
       "      <td>57.0</td>\n",
       "    </tr>\n",
       "    <tr>\n",
       "      <th>11108</th>\n",
       "      <td>Jay Chapman</td>\n",
       "      <td>Lisa Lampanelli: Back to the Drawing Board</td>\n",
       "      <td>Documentary,Comedy</td>\n",
       "      <td>59.0</td>\n",
       "    </tr>\n",
       "    <tr>\n",
       "      <th>11342</th>\n",
       "      <td>Jay Chapman</td>\n",
       "      <td>Michael Ian Black: Very Famous</td>\n",
       "      <td>Comedy</td>\n",
       "      <td>53.0</td>\n",
       "    </tr>\n",
       "    <tr>\n",
       "      <th>11614</th>\n",
       "      <td>Jay Chapman</td>\n",
       "      <td>Janeane Garofalo: If I May</td>\n",
       "      <td>Comedy</td>\n",
       "      <td>64.0</td>\n",
       "    </tr>\n",
       "    <tr>\n",
       "      <th>11955</th>\n",
       "      <td>Jay Chapman</td>\n",
       "      <td>Adam Newman: Fuzzies</td>\n",
       "      <td>Comedy</td>\n",
       "      <td>66.0</td>\n",
       "    </tr>\n",
       "    <tr>\n",
       "      <th>12193</th>\n",
       "      <td>Jay Chapman</td>\n",
       "      <td>Dana Gould: I Know It's Wrong</td>\n",
       "      <td>Documentary,Comedy</td>\n",
       "      <td>55.0</td>\n",
       "    </tr>\n",
       "    <tr>\n",
       "      <th>12425</th>\n",
       "      <td>Jay Chapman</td>\n",
       "      <td>Steve Byrne: Champion</td>\n",
       "      <td>Comedy</td>\n",
       "      <td>70.0</td>\n",
       "    </tr>\n",
       "    <tr>\n",
       "      <th>12698</th>\n",
       "      <td>Jay Chapman</td>\n",
       "      <td>Nick Di Paolo: Raw Nerve</td>\n",
       "      <td>Documentary,Comedy</td>\n",
       "      <td>46.0</td>\n",
       "    </tr>\n",
       "    <tr>\n",
       "      <th>12967</th>\n",
       "      <td>Jay Chapman</td>\n",
       "      <td>Aaron Karo: The Rest Is History</td>\n",
       "      <td>Comedy</td>\n",
       "      <td>65.0</td>\n",
       "    </tr>\n",
       "    <tr>\n",
       "      <th>12996</th>\n",
       "      <td>Jay Chapman</td>\n",
       "      <td>Tom Rhodes: Light, Sweet, Crude</td>\n",
       "      <td>Comedy</td>\n",
       "      <td>56.0</td>\n",
       "    </tr>\n",
       "    <tr>\n",
       "      <th>13347</th>\n",
       "      <td>Jay Chapman</td>\n",
       "      <td>The Sklar Brothers: What Are We Talking About?</td>\n",
       "      <td>Comedy</td>\n",
       "      <td>69.0</td>\n",
       "    </tr>\n",
       "    <tr>\n",
       "      <th>14281</th>\n",
       "      <td>Jay Chapman</td>\n",
       "      <td>Jasper Redd: Jazz Talk</td>\n",
       "      <td>Comedy</td>\n",
       "      <td>62.0</td>\n",
       "    </tr>\n",
       "  </tbody>\n",
       "</table>\n",
       "</div>"
      ],
      "text/plain": [
       "         Directors                                           Title  \\\n",
       "1014   Jay Chapman                          Jim Gaffigan: Obsessed   \n",
       "1234   Jay Chapman                     Iliza Shlesinger: War Paint   \n",
       "1417   Jay Chapman                   Tom Segura: Completely Normal   \n",
       "2211   Jay Chapman                         Todd Barry: Spicy Honey   \n",
       "2331   Jay Chapman                    Craig Ferguson: Tickle Fight   \n",
       "2393   Jay Chapman                   Colin Quinn: Unconstitutional   \n",
       "2447   Jay Chapman                        Lucas Brothers: On Drugs   \n",
       "2523   Jay Chapman                        D.L. Hughley: Contrarian   \n",
       "2636   Jay Chapman                             D.L. Hughley: Clear   \n",
       "2721   Jay Chapman                   Moshe Kasher: Live in Oakland   \n",
       "2859   Jay Chapman                     Todd Glass Stand-Up Special   \n",
       "3041   Jay Chapman                     Brad Paisley's Comedy Rodeo   \n",
       "7743   Jay Chapman                    Chris Porter: Ugly and Angry   \n",
       "7962   Jay Chapman                   Gary Gulman: In This Economy?   \n",
       "8041   Jay Chapman                 Kathleen Madigan: Madigan Again   \n",
       "8803   Jay Chapman                     Elon Gold: Chosen and Taken   \n",
       "8824   Jay Chapman                Jim Breuer: And Laughter for All   \n",
       "8994   Jay Chapman                     Arnez J: Racially Motivated   \n",
       "9296   Jay Chapman                    Morgan Murphy: Irish Goodbye   \n",
       "9730   Jay Chapman                       Brian Posehn: The Fartist   \n",
       "9866   Jay Chapman                        Josh Blue: Sticky Change   \n",
       "9885   Jay Chapman                        Bob Saget: Zero to Sixty   \n",
       "10362  Jay Chapman            Myq Kaplan: Small, Dork and Handsome   \n",
       "10543  Jay Chapman             Tammy Pescatelli: Finding the Funny   \n",
       "10771  Jay Chapman           Kevin Nealon: Whelmed, But Not Overly   \n",
       "11108  Jay Chapman      Lisa Lampanelli: Back to the Drawing Board   \n",
       "11342  Jay Chapman                  Michael Ian Black: Very Famous   \n",
       "11614  Jay Chapman                      Janeane Garofalo: If I May   \n",
       "11955  Jay Chapman                            Adam Newman: Fuzzies   \n",
       "12193  Jay Chapman                   Dana Gould: I Know It's Wrong   \n",
       "12425  Jay Chapman                           Steve Byrne: Champion   \n",
       "12698  Jay Chapman                        Nick Di Paolo: Raw Nerve   \n",
       "12967  Jay Chapman                 Aaron Karo: The Rest Is History   \n",
       "12996  Jay Chapman                 Tom Rhodes: Light, Sweet, Crude   \n",
       "13347  Jay Chapman  The Sklar Brothers: What Are We Talking About?   \n",
       "14281  Jay Chapman                          Jasper Redd: Jazz Talk   \n",
       "\n",
       "                   Genres  Runtime  \n",
       "1014   Documentary,Comedy     60.0  \n",
       "1234               Comedy     75.0  \n",
       "1417   Documentary,Comedy     74.0  \n",
       "2211               Comedy     60.0  \n",
       "2331               Comedy     66.0  \n",
       "2393               Comedy     55.0  \n",
       "2447               Comedy     50.0  \n",
       "2523               Comedy     58.0  \n",
       "2636               Comedy     60.0  \n",
       "2721               Comedy     61.0  \n",
       "2859               Comedy     46.0  \n",
       "3041               Comedy     63.0  \n",
       "7743               Comedy     60.0  \n",
       "7962   Documentary,Comedy     60.0  \n",
       "8041               Comedy     65.0  \n",
       "8803               Comedy     61.0  \n",
       "8824   Documentary,Comedy     59.0  \n",
       "8994               Comedy     60.0  \n",
       "9296               Comedy     51.0  \n",
       "9730               Comedy     62.0  \n",
       "9866   Documentary,Comedy     52.0  \n",
       "9885               Comedy     64.0  \n",
       "10362              Comedy     66.0  \n",
       "10543              Comedy     58.0  \n",
       "10771              Comedy     57.0  \n",
       "11108  Documentary,Comedy     59.0  \n",
       "11342              Comedy     53.0  \n",
       "11614              Comedy     64.0  \n",
       "11955              Comedy     66.0  \n",
       "12193  Documentary,Comedy     55.0  \n",
       "12425              Comedy     70.0  \n",
       "12698  Documentary,Comedy     46.0  \n",
       "12967              Comedy     65.0  \n",
       "12996              Comedy     56.0  \n",
       "13347              Comedy     69.0  \n",
       "14281              Comedy     62.0  "
      ]
     },
     "execution_count": 33,
     "metadata": {},
     "output_type": "execute_result"
    }
   ],
   "source": [
    "df[df['Directors']=='Jay Chapman'][['Directors','Title','Genres','Runtime']]"
   ]
  },
  {
   "cell_type": "markdown",
   "metadata": {},
   "source": [
    "# Exploring Genres"
   ]
  },
  {
   "cell_type": "code",
   "execution_count": 34,
   "metadata": {},
   "outputs": [],
   "source": [
    "genres_=dict(df['Genres'].value_counts())\n",
    "\n",
    "genres_count=dict()\n",
    "\n",
    "for g,count in genres_.items():\n",
    "    g=g.split(',')\n",
    "    for i in g:\n",
    "        if i in genres_count.keys():\n",
    "            genres_count[i]=genres_count.get(i)+1\n",
    "        else:\n",
    "            genres_count[i]=1"
   ]
  },
  {
   "cell_type": "code",
   "execution_count": 35,
   "metadata": {},
   "outputs": [
    {
     "data": {
      "text/plain": [
       "{'Drama': 868,\n",
       " 'Documentary': 249,\n",
       " 'Comedy': 654,\n",
       " 'Horror': 296,\n",
       " 'Romance': 420,\n",
       " 'Thriller': 467,\n",
       " 'Action': 553,\n",
       " 'Crime': 347,\n",
       " 'Music': 171,\n",
       " 'Mystery': 318,\n",
       " 'Western': 168,\n",
       " 'Family': 426,\n",
       " 'Sci-Fi': 312,\n",
       " 'Biography': 190,\n",
       " 'History': 198,\n",
       " 'War': 170,\n",
       " 'Sport': 126,\n",
       " 'Short': 141,\n",
       " 'Animation': 265,\n",
       " 'Adventure': 560,\n",
       " 'Fantasy': 371,\n",
       " 'Musical': 171,\n",
       " 'News': 36,\n",
       " 'Film-Noir': 25,\n",
       " 'Reality-TV': 8,\n",
       " 'Talk-Show': 8,\n",
       " 'Game-Show': 6}"
      ]
     },
     "execution_count": 35,
     "metadata": {},
     "output_type": "execute_result"
    }
   ],
   "source": [
    "genres_count"
   ]
  },
  {
   "cell_type": "code",
   "execution_count": 36,
   "metadata": {},
   "outputs": [
    {
     "data": {
      "text/html": [
       "<div>\n",
       "<style scoped>\n",
       "    .dataframe tbody tr th:only-of-type {\n",
       "        vertical-align: middle;\n",
       "    }\n",
       "\n",
       "    .dataframe tbody tr th {\n",
       "        vertical-align: top;\n",
       "    }\n",
       "\n",
       "    .dataframe thead th {\n",
       "        text-align: right;\n",
       "    }\n",
       "</style>\n",
       "<table border=\"1\" class=\"dataframe\">\n",
       "  <thead>\n",
       "    <tr style=\"text-align: right;\">\n",
       "      <th></th>\n",
       "      <th>Genre</th>\n",
       "      <th>Count</th>\n",
       "    </tr>\n",
       "  </thead>\n",
       "  <tbody>\n",
       "    <tr>\n",
       "      <th>0</th>\n",
       "      <td>Drama</td>\n",
       "      <td>868</td>\n",
       "    </tr>\n",
       "    <tr>\n",
       "      <th>2</th>\n",
       "      <td>Comedy</td>\n",
       "      <td>654</td>\n",
       "    </tr>\n",
       "    <tr>\n",
       "      <th>19</th>\n",
       "      <td>Adventure</td>\n",
       "      <td>560</td>\n",
       "    </tr>\n",
       "    <tr>\n",
       "      <th>6</th>\n",
       "      <td>Action</td>\n",
       "      <td>553</td>\n",
       "    </tr>\n",
       "    <tr>\n",
       "      <th>5</th>\n",
       "      <td>Thriller</td>\n",
       "      <td>467</td>\n",
       "    </tr>\n",
       "    <tr>\n",
       "      <th>11</th>\n",
       "      <td>Family</td>\n",
       "      <td>426</td>\n",
       "    </tr>\n",
       "    <tr>\n",
       "      <th>4</th>\n",
       "      <td>Romance</td>\n",
       "      <td>420</td>\n",
       "    </tr>\n",
       "    <tr>\n",
       "      <th>20</th>\n",
       "      <td>Fantasy</td>\n",
       "      <td>371</td>\n",
       "    </tr>\n",
       "    <tr>\n",
       "      <th>7</th>\n",
       "      <td>Crime</td>\n",
       "      <td>347</td>\n",
       "    </tr>\n",
       "    <tr>\n",
       "      <th>9</th>\n",
       "      <td>Mystery</td>\n",
       "      <td>318</td>\n",
       "    </tr>\n",
       "    <tr>\n",
       "      <th>12</th>\n",
       "      <td>Sci-Fi</td>\n",
       "      <td>312</td>\n",
       "    </tr>\n",
       "    <tr>\n",
       "      <th>3</th>\n",
       "      <td>Horror</td>\n",
       "      <td>296</td>\n",
       "    </tr>\n",
       "    <tr>\n",
       "      <th>18</th>\n",
       "      <td>Animation</td>\n",
       "      <td>265</td>\n",
       "    </tr>\n",
       "    <tr>\n",
       "      <th>1</th>\n",
       "      <td>Documentary</td>\n",
       "      <td>249</td>\n",
       "    </tr>\n",
       "    <tr>\n",
       "      <th>14</th>\n",
       "      <td>History</td>\n",
       "      <td>198</td>\n",
       "    </tr>\n",
       "    <tr>\n",
       "      <th>13</th>\n",
       "      <td>Biography</td>\n",
       "      <td>190</td>\n",
       "    </tr>\n",
       "    <tr>\n",
       "      <th>8</th>\n",
       "      <td>Music</td>\n",
       "      <td>171</td>\n",
       "    </tr>\n",
       "    <tr>\n",
       "      <th>21</th>\n",
       "      <td>Musical</td>\n",
       "      <td>171</td>\n",
       "    </tr>\n",
       "    <tr>\n",
       "      <th>15</th>\n",
       "      <td>War</td>\n",
       "      <td>170</td>\n",
       "    </tr>\n",
       "    <tr>\n",
       "      <th>10</th>\n",
       "      <td>Western</td>\n",
       "      <td>168</td>\n",
       "    </tr>\n",
       "  </tbody>\n",
       "</table>\n",
       "</div>"
      ],
      "text/plain": [
       "          Genre  Count\n",
       "0         Drama    868\n",
       "2        Comedy    654\n",
       "19    Adventure    560\n",
       "6        Action    553\n",
       "5      Thriller    467\n",
       "11       Family    426\n",
       "4       Romance    420\n",
       "20      Fantasy    371\n",
       "7         Crime    347\n",
       "9       Mystery    318\n",
       "12       Sci-Fi    312\n",
       "3        Horror    296\n",
       "18    Animation    265\n",
       "1   Documentary    249\n",
       "14      History    198\n",
       "13    Biography    190\n",
       "8         Music    171\n",
       "21      Musical    171\n",
       "15          War    170\n",
       "10      Western    168"
      ]
     },
     "execution_count": 36,
     "metadata": {},
     "output_type": "execute_result"
    }
   ],
   "source": [
    "count_genres_df=pd.DataFrame(genres_count.items(),columns=['Genre','Count'])\n",
    "\n",
    "count_genres_df=count_genres_df.sort_values(by='Count', ascending=False).head(20)\n",
    "\n",
    "count_genres_df"
   ]
  },
  {
   "cell_type": "code",
   "execution_count": 37,
   "metadata": {},
   "outputs": [
    {
     "data": {
      "text/html": [
       "<iframe\n",
       "    scrolling=\"no\"\n",
       "    width=\"100%\"\n",
       "    height=\"620\"\n",
       "    src=\"iframe_figures/figure_37.html\"\n",
       "    frameborder=\"0\"\n",
       "    allowfullscreen\n",
       "></iframe>\n"
      ]
     },
     "metadata": {},
     "output_type": "display_data"
    }
   ],
   "source": [
    "fig = px.bar(count_genres_df,\n",
    "           x=count_genres_df['Genre'],\n",
    "           y=count_genres_df['Count'],\n",
    "           title=\"Genres and their count\",\n",
    "           text=count_genres_df['Count'],\n",
    "           height=600)\n",
    "fig.update_traces(marker_color='lightsalmon' ,texttemplate='%{text:.2s}',textposition='outside')\n",
    "HTML(fig.to_html())\n",
    "fig.show()"
   ]
  },
  {
   "cell_type": "markdown",
   "metadata": {},
   "source": [
    "## Q. What are the top Movies on Each Platform?"
   ]
  },
  {
   "cell_type": "markdown",
   "metadata": {},
   "source": [
    "### NetFlix"
   ]
  },
  {
   "cell_type": "code",
   "execution_count": 38,
   "metadata": {},
   "outputs": [
    {
     "data": {
      "text/html": [
       "<div>\n",
       "<style scoped>\n",
       "    .dataframe tbody tr th:only-of-type {\n",
       "        vertical-align: middle;\n",
       "    }\n",
       "\n",
       "    .dataframe tbody tr th {\n",
       "        vertical-align: top;\n",
       "    }\n",
       "\n",
       "    .dataframe thead th {\n",
       "        text-align: right;\n",
       "    }\n",
       "</style>\n",
       "<table border=\"1\" class=\"dataframe\">\n",
       "  <thead>\n",
       "    <tr style=\"text-align: right;\">\n",
       "      <th></th>\n",
       "      <th>Title</th>\n",
       "      <th>IMDb</th>\n",
       "    </tr>\n",
       "  </thead>\n",
       "  <tbody>\n",
       "    <tr>\n",
       "      <th>1292</th>\n",
       "      <td>My Next Guest with David Letterman and Shah Ru...</td>\n",
       "      <td>9.3</td>\n",
       "    </tr>\n",
       "    <tr>\n",
       "      <th>947</th>\n",
       "      <td>Natsamrat</td>\n",
       "      <td>9.1</td>\n",
       "    </tr>\n",
       "    <tr>\n",
       "      <th>0</th>\n",
       "      <td>Inception</td>\n",
       "      <td>8.8</td>\n",
       "    </tr>\n",
       "    <tr>\n",
       "      <th>4</th>\n",
       "      <td>The Good, the Bad and the Ugly</td>\n",
       "      <td>8.8</td>\n",
       "    </tr>\n",
       "    <tr>\n",
       "      <th>1</th>\n",
       "      <td>The Matrix</td>\n",
       "      <td>8.7</td>\n",
       "    </tr>\n",
       "    <tr>\n",
       "      <th>1214</th>\n",
       "      <td>Bill Hicks: Relentless</td>\n",
       "      <td>8.7</td>\n",
       "    </tr>\n",
       "    <tr>\n",
       "      <th>1311</th>\n",
       "      <td>Eh Janam Tumhare Lekhe</td>\n",
       "      <td>8.7</td>\n",
       "    </tr>\n",
       "    <tr>\n",
       "      <th>1458</th>\n",
       "      <td>Untamed Romania</td>\n",
       "      <td>8.7</td>\n",
       "    </tr>\n",
       "    <tr>\n",
       "      <th>1979</th>\n",
       "      <td>One Heart: The A.R. Rahman Concert Film</td>\n",
       "      <td>8.7</td>\n",
       "    </tr>\n",
       "    <tr>\n",
       "      <th>845</th>\n",
       "      <td>Gol Maal</td>\n",
       "      <td>8.6</td>\n",
       "    </tr>\n",
       "    <tr>\n",
       "      <th>1312</th>\n",
       "      <td>Bill Hicks: Revelations</td>\n",
       "      <td>8.6</td>\n",
       "    </tr>\n",
       "    <tr>\n",
       "      <th>1356</th>\n",
       "      <td>Merku Thodarchi Malai</td>\n",
       "      <td>8.6</td>\n",
       "    </tr>\n",
       "    <tr>\n",
       "      <th>1468</th>\n",
       "      <td>K. D.</td>\n",
       "      <td>8.6</td>\n",
       "    </tr>\n",
       "    <tr>\n",
       "      <th>1538</th>\n",
       "      <td>Luciano Mellera: Infantiloide</td>\n",
       "      <td>8.6</td>\n",
       "    </tr>\n",
       "    <tr>\n",
       "      <th>2195</th>\n",
       "      <td>Hikaru Utada Laughter in the Dark Tour 2018</td>\n",
       "      <td>8.6</td>\n",
       "    </tr>\n",
       "    <tr>\n",
       "      <th>2704</th>\n",
       "      <td>True: Happy Hearts Day</td>\n",
       "      <td>8.6</td>\n",
       "    </tr>\n",
       "  </tbody>\n",
       "</table>\n",
       "</div>"
      ],
      "text/plain": [
       "                                                  Title  IMDb\n",
       "1292  My Next Guest with David Letterman and Shah Ru...   9.3\n",
       "947                                           Natsamrat   9.1\n",
       "0                                             Inception   8.8\n",
       "4                        The Good, the Bad and the Ugly   8.8\n",
       "1                                            The Matrix   8.7\n",
       "1214                             Bill Hicks: Relentless   8.7\n",
       "1311                             Eh Janam Tumhare Lekhe   8.7\n",
       "1458                                    Untamed Romania   8.7\n",
       "1979            One Heart: The A.R. Rahman Concert Film   8.7\n",
       "845                                            Gol Maal   8.6\n",
       "1312                            Bill Hicks: Revelations   8.6\n",
       "1356                              Merku Thodarchi Malai   8.6\n",
       "1468                                              K. D.   8.6\n",
       "1538                      Luciano Mellera: Infantiloide   8.6\n",
       "2195        Hikaru Utada Laughter in the Dark Tour 2018   8.6\n",
       "2704                             True: Happy Hearts Day   8.6"
      ]
     },
     "execution_count": 38,
     "metadata": {},
     "output_type": "execute_result"
    }
   ],
   "source": [
    "data_netflix_top=netflix_df[netflix_df['IMDb']>8.5]\n",
    "\n",
    "data_netflix_top=data_netflix_top[['Title','IMDb']].sort_values(ascending=False,by='IMDb')\n",
    "\n",
    "data_netflix_top"
   ]
  },
  {
   "cell_type": "code",
   "execution_count": 39,
   "metadata": {},
   "outputs": [
    {
     "data": {
      "text/html": [
       "<iframe\n",
       "    scrolling=\"no\"\n",
       "    width=\"100%\"\n",
       "    height=\"820\"\n",
       "    src=\"iframe_figures/figure_39.html\"\n",
       "    frameborder=\"0\"\n",
       "    allowfullscreen\n",
       "></iframe>\n"
      ]
     },
     "metadata": {},
     "output_type": "display_data"
    }
   ],
   "source": [
    "fig = px.bar(data_netflix_top,\n",
    "           x=data_netflix_top['Title'],\n",
    "           y=data_netflix_top['IMDb'],\n",
    "           title=\"Top Movies on Netflix by IMDb\",\n",
    "           text=data_netflix_top['IMDb'],\n",
    "           height=800)\n",
    "fig.update_traces(marker_color='brown' ,texttemplate='%{text:.2s}',textposition='outside')\n",
    "HTML(fig.to_html())\n",
    "fig.show()"
   ]
  },
  {
   "cell_type": "markdown",
   "metadata": {},
   "source": [
    "## Amazon Prime"
   ]
  },
  {
   "cell_type": "code",
   "execution_count": 40,
   "metadata": {},
   "outputs": [
    {
     "data": {
      "text/html": [
       "<div>\n",
       "<style scoped>\n",
       "    .dataframe tbody tr th:only-of-type {\n",
       "        vertical-align: middle;\n",
       "    }\n",
       "\n",
       "    .dataframe tbody tr th {\n",
       "        vertical-align: top;\n",
       "    }\n",
       "\n",
       "    .dataframe thead th {\n",
       "        text-align: right;\n",
       "    }\n",
       "</style>\n",
       "<table border=\"1\" class=\"dataframe\">\n",
       "  <thead>\n",
       "    <tr style=\"text-align: right;\">\n",
       "      <th></th>\n",
       "      <th>Title</th>\n",
       "      <th>IMDb</th>\n",
       "    </tr>\n",
       "  </thead>\n",
       "  <tbody>\n",
       "    <tr>\n",
       "      <th>5110</th>\n",
       "      <td>Love on a Leash</td>\n",
       "      <td>9.3</td>\n",
       "    </tr>\n",
       "    <tr>\n",
       "      <th>7426</th>\n",
       "      <td>Bounty</td>\n",
       "      <td>9.3</td>\n",
       "    </tr>\n",
       "    <tr>\n",
       "      <th>6837</th>\n",
       "      <td>Steven Banks: Home Entertainment Center</td>\n",
       "      <td>9.3</td>\n",
       "    </tr>\n",
       "    <tr>\n",
       "      <th>6566</th>\n",
       "      <td>Square One</td>\n",
       "      <td>9.3</td>\n",
       "    </tr>\n",
       "    <tr>\n",
       "      <th>7220</th>\n",
       "      <td>Down, But Not Out!</td>\n",
       "      <td>9.3</td>\n",
       "    </tr>\n",
       "    <tr>\n",
       "      <th>...</th>\n",
       "      <td>...</td>\n",
       "      <td>...</td>\n",
       "    </tr>\n",
       "    <tr>\n",
       "      <th>5730</th>\n",
       "      <td>George Carlin: You Are All Diseased</td>\n",
       "      <td>8.6</td>\n",
       "    </tr>\n",
       "    <tr>\n",
       "      <th>5607</th>\n",
       "      <td>Aruvi</td>\n",
       "      <td>8.6</td>\n",
       "    </tr>\n",
       "    <tr>\n",
       "      <th>9004</th>\n",
       "      <td>The Legend of Pancho Barnes and the Happy Bott...</td>\n",
       "      <td>8.6</td>\n",
       "    </tr>\n",
       "    <tr>\n",
       "      <th>9098</th>\n",
       "      <td>Yellow Colt</td>\n",
       "      <td>8.6</td>\n",
       "    </tr>\n",
       "    <tr>\n",
       "      <th>7619</th>\n",
       "      <td>The New Public</td>\n",
       "      <td>8.6</td>\n",
       "    </tr>\n",
       "  </tbody>\n",
       "</table>\n",
       "<p>80 rows × 2 columns</p>\n",
       "</div>"
      ],
      "text/plain": [
       "                                                  Title  IMDb\n",
       "5110                                    Love on a Leash   9.3\n",
       "7426                                             Bounty   9.3\n",
       "6837            Steven Banks: Home Entertainment Center   9.3\n",
       "6566                                         Square One   9.3\n",
       "7220                                 Down, But Not Out!   9.3\n",
       "...                                                 ...   ...\n",
       "5730                George Carlin: You Are All Diseased   8.6\n",
       "5607                                              Aruvi   8.6\n",
       "9004  The Legend of Pancho Barnes and the Happy Bott...   8.6\n",
       "9098                                        Yellow Colt   8.6\n",
       "7619                                     The New Public   8.6\n",
       "\n",
       "[80 rows x 2 columns]"
      ]
     },
     "execution_count": 40,
     "metadata": {},
     "output_type": "execute_result"
    }
   ],
   "source": [
    "amz_top = prime_df[prime_df['IMDb']>8.5]\n",
    "amz_top = amz_top[['Title', 'IMDb']].sort_values(ascending=False, by='IMDb')\n",
    "amz_top"
   ]
  },
  {
   "cell_type": "code",
   "execution_count": 41,
   "metadata": {},
   "outputs": [
    {
     "data": {
      "text/html": [
       "<iframe\n",
       "    scrolling=\"no\"\n",
       "    width=\"100%\"\n",
       "    height=\"820\"\n",
       "    src=\"iframe_figures/figure_41.html\"\n",
       "    frameborder=\"0\"\n",
       "    allowfullscreen\n",
       "></iframe>\n"
      ]
     },
     "metadata": {},
     "output_type": "display_data"
    }
   ],
   "source": [
    "fig = px.bar(amz_top, \n",
    "             x=amz_top['Title'], \n",
    "             y=amz_top['IMDb'],\n",
    "             title=\"Top Movies On Amazon Prime\",\n",
    "             text=amz_top['IMDb'],\n",
    "             height=800)\n",
    "fig.update_traces(marker_color='brown',texttemplate='%{text:.2s}', textposition='outside') #for the text to be outside.\n",
    "HTML(fig.to_html())\n",
    "fig.show()"
   ]
  },
  {
   "cell_type": "markdown",
   "metadata": {},
   "source": [
    "## On Disney+"
   ]
  },
  {
   "cell_type": "code",
   "execution_count": 42,
   "metadata": {},
   "outputs": [
    {
     "data": {
      "text/html": [
       "<div>\n",
       "<style scoped>\n",
       "    .dataframe tbody tr th:only-of-type {\n",
       "        vertical-align: middle;\n",
       "    }\n",
       "\n",
       "    .dataframe tbody tr th {\n",
       "        vertical-align: top;\n",
       "    }\n",
       "\n",
       "    .dataframe thead th {\n",
       "        text-align: right;\n",
       "    }\n",
       "</style>\n",
       "<table border=\"1\" class=\"dataframe\">\n",
       "  <thead>\n",
       "    <tr style=\"text-align: right;\">\n",
       "      <th></th>\n",
       "      <th>Title</th>\n",
       "      <th>IMDb</th>\n",
       "    </tr>\n",
       "  </thead>\n",
       "  <tbody>\n",
       "    <tr>\n",
       "      <th>16213</th>\n",
       "      <td>Star Wars: The Empire Strikes Back</td>\n",
       "      <td>8.7</td>\n",
       "    </tr>\n",
       "    <tr>\n",
       "      <th>16212</th>\n",
       "      <td>Star Wars: A New Hope</td>\n",
       "      <td>8.6</td>\n",
       "    </tr>\n",
       "  </tbody>\n",
       "</table>\n",
       "</div>"
      ],
      "text/plain": [
       "                                    Title  IMDb\n",
       "16213  Star Wars: The Empire Strikes Back   8.7\n",
       "16212               Star Wars: A New Hope   8.6"
      ]
     },
     "execution_count": 42,
     "metadata": {},
     "output_type": "execute_result"
    }
   ],
   "source": [
    "disney_top = disney_df[disney_df['IMDb']>8.5]\n",
    "disney_top = disney_top[['Title', 'IMDb']].sort_values(ascending=False, by='IMDb')\n",
    "disney_top"
   ]
  },
  {
   "cell_type": "code",
   "execution_count": 43,
   "metadata": {},
   "outputs": [
    {
     "data": {
      "text/html": [
       "<iframe\n",
       "    scrolling=\"no\"\n",
       "    width=\"100%\"\n",
       "    height=\"820\"\n",
       "    src=\"iframe_figures/figure_43.html\"\n",
       "    frameborder=\"0\"\n",
       "    allowfullscreen\n",
       "></iframe>\n"
      ]
     },
     "metadata": {},
     "output_type": "display_data"
    }
   ],
   "source": [
    "fig = px.bar(disney_top, \n",
    "             x=disney_top['Title'], \n",
    "             y=disney_top['IMDb'],\n",
    "             title=\"Top Movies On Disney+\",\n",
    "             text=disney_top['IMDb'],\n",
    "             height=800)\n",
    "fig.update_traces(marker_color='lightblue',texttemplate='%{text:.2s}', textposition='outside') #for the text to be outside.\n",
    "HTML(fig.to_html())\n",
    "fig.show()"
   ]
  },
  {
   "cell_type": "markdown",
   "metadata": {},
   "source": [
    "## On HULU"
   ]
  },
  {
   "cell_type": "code",
   "execution_count": 44,
   "metadata": {},
   "outputs": [
    {
     "data": {
      "text/html": [
       "<div>\n",
       "<style scoped>\n",
       "    .dataframe tbody tr th:only-of-type {\n",
       "        vertical-align: middle;\n",
       "    }\n",
       "\n",
       "    .dataframe tbody tr th {\n",
       "        vertical-align: top;\n",
       "    }\n",
       "\n",
       "    .dataframe thead th {\n",
       "        text-align: right;\n",
       "    }\n",
       "</style>\n",
       "<table border=\"1\" class=\"dataframe\">\n",
       "  <thead>\n",
       "    <tr style=\"text-align: right;\">\n",
       "      <th></th>\n",
       "      <th>Title</th>\n",
       "      <th>IMDb</th>\n",
       "    </tr>\n",
       "  </thead>\n",
       "  <tbody>\n",
       "    <tr>\n",
       "      <th>3560</th>\n",
       "      <td>The Dark Knight</td>\n",
       "      <td>9.0</td>\n",
       "    </tr>\n",
       "    <tr>\n",
       "      <th>3561</th>\n",
       "      <td>GoodFellas</td>\n",
       "      <td>8.7</td>\n",
       "    </tr>\n",
       "    <tr>\n",
       "      <th>3562</th>\n",
       "      <td>Parasite</td>\n",
       "      <td>8.6</td>\n",
       "    </tr>\n",
       "    <tr>\n",
       "      <th>3564</th>\n",
       "      <td>The Green Mile</td>\n",
       "      <td>8.6</td>\n",
       "    </tr>\n",
       "  </tbody>\n",
       "</table>\n",
       "</div>"
      ],
      "text/plain": [
       "                Title  IMDb\n",
       "3560  The Dark Knight   9.0\n",
       "3561       GoodFellas   8.7\n",
       "3562         Parasite   8.6\n",
       "3564   The Green Mile   8.6"
      ]
     },
     "execution_count": 44,
     "metadata": {},
     "output_type": "execute_result"
    }
   ],
   "source": [
    "hulu_top = hulu_df[hulu_df['IMDb']>8.5]\n",
    "hulu_top = hulu_top[['Title', 'IMDb']].sort_values(ascending=False, by='IMDb')\n",
    "hulu_top"
   ]
  },
  {
   "cell_type": "code",
   "execution_count": 45,
   "metadata": {},
   "outputs": [
    {
     "data": {
      "text/html": [
       "<iframe\n",
       "    scrolling=\"no\"\n",
       "    width=\"100%\"\n",
       "    height=\"820\"\n",
       "    src=\"iframe_figures/figure_45.html\"\n",
       "    frameborder=\"0\"\n",
       "    allowfullscreen\n",
       "></iframe>\n"
      ]
     },
     "metadata": {},
     "output_type": "display_data"
    }
   ],
   "source": [
    "fig = px.bar(hulu_top, \n",
    "             x=hulu_top['Title'], \n",
    "             y=hulu_top['IMDb'],\n",
    "             title=\"Top Movies On Hulu\",\n",
    "             text=hulu_top['IMDb'],\n",
    "             height=800)\n",
    "fig.update_traces(marker_color='purple',texttemplate='%{text:.2s}', textposition='outside') #for the text to be outside.\n",
    "HTML(fig.to_html())\n",
    "fig.show()"
   ]
  },
  {
   "cell_type": "code",
   "execution_count": null,
   "metadata": {},
   "outputs": [],
   "source": []
  }
 ],
 "metadata": {
  "kernelspec": {
   "display_name": "Python 3 (ipykernel)",
   "language": "python",
   "name": "python3"
  },
  "language_info": {
   "codemirror_mode": {
    "name": "ipython",
    "version": 3
   },
   "file_extension": ".py",
   "mimetype": "text/x-python",
   "name": "python",
   "nbconvert_exporter": "python",
   "pygments_lexer": "ipython3",
   "version": "3.9.13"
  },
  "vscode": {
   "interpreter": {
    "hash": "8e6242bf52b34b22295384af64a744ffe82eb55419bcd85f81946f4879f02295"
   }
  }
 },
 "nbformat": 4,
 "nbformat_minor": 2
}
